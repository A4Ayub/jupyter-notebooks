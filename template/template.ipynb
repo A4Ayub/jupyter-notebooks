{
 "cells": [
  {
   "cell_type": "markdown",
   "metadata": {
    "deletable": true,
    "editable": true
   },
   "source": [
    "# Title\n",
    "#### By [Rob DiPietro](http://rdipietro.github.io) – Version 0.1 – January 1, 2016\n",
    "#### <a href=\"https://twitter.com/rsdipietro\" class=\"twitter-follow-button\" data-size=\"large\" data-show-screen-name=\"false\" data-show-count=\"false\">Follow @rsdipietro</a>"
   ]
  },
  {
   "cell_type": "markdown",
   "metadata": {
    "deletable": true,
    "editable": true
   },
   "source": [
    "## Post or Jupyter Notebook?\n",
    "\n",
    "This work is available both as a [post](http://rdipietro.github.io/replace-this/) and as a [Jupyter notebook](https://github.com/rdipietro/jupyter-notebooks/tree/master/replace-this). If you see any mistakes or have any questions, please open a [GitHub issue](https://github.com/rdipietro/jupyter-notebooks/issues)."
   ]
  },
  {
   "cell_type": "markdown",
   "metadata": {
    "deletable": true,
    "editable": true
   },
   "source": [
    "## Contents\n",
    "\n",
    "- [Introduction](#introduction)\n",
    "- [Acknowledgements](#acknowledgements)\n",
    "- [About Me](#about-me)"
   ]
  },
  {
   "cell_type": "markdown",
   "metadata": {
    "deletable": true,
    "editable": true
   },
   "source": [
    "<a id=\"introduction\"></a>\n",
    "## Introduction\n",
    "\n"
   ]
  },
  {
   "cell_type": "markdown",
   "metadata": {
    "deletable": true,
    "editable": true
   },
   "source": [
    "<a id=\"acknowledgements\"></a>\n",
    "## Acknowledgements\n",
    "\n",
    "I'd like to thank my advisor, [Gregory D. Hager](http://www.cs.jhu.edu/~hager/), for being supportive of this work."
   ]
  },
  {
   "cell_type": "markdown",
   "metadata": {
    "deletable": true,
    "editable": true
   },
   "source": [
    "<a id=\"About Me\"></a>\n",
    "## About Me\n",
    "\n",
    "![Rob](images/rob_small.jpg)\n",
    "\n",
    "I'm [Rob DiPietro](http://rdipietro.github.com), a PhD student in the [Department of Computer Science at Johns Hopkins](https://www.cs.jhu.edu/), where I'm advised by [Gregory D. Hager](http://www.cs.jhu.edu/~hager/). I'm part of the [Computational Interaction and Robotics Laboratory](http://cirl.lcsr.jhu.edu/) and the [Malone Center for Engineering in Healthcare](http://malonecenter.jhu.edu/). Previously, I was an associate research-staff member at [MIT Lincoln Laboratory](http://www.ll.mit.edu/) and a BS/MS student at [Northeastern University](http://www.northeastern.edu/).\n",
    "\n",
    "You can find my other tutorials [here](http://rdipietro.github.io/#tutorials).\n",
    "\n",
    "#### <a href=\"https://twitter.com/rsdipietro\" class=\"twitter-follow-button\" data-size=\"large\" data-show-screen-name=\"false\" data-show-count=\"false\">Follow @rsdipietro</a>"
   ]
  }
 ],
 "metadata": {
  "kernelspec": {
   "display_name": "Python 3",
   "language": "python",
   "name": "python3"
  },
  "language_info": {
   "codemirror_mode": {
    "name": "ipython",
    "version": 3
   },
   "file_extension": ".py",
   "mimetype": "text/x-python",
   "name": "python",
   "nbconvert_exporter": "python",
   "pygments_lexer": "ipython3",
   "version": "3.5.2"
  }
 },
 "nbformat": 4,
 "nbformat_minor": 0
}
