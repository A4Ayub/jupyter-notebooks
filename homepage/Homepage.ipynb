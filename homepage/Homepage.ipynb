{
 "cells": [
  {
   "cell_type": "markdown",
   "metadata": {},
   "source": [
    "![Rob](images/rob.jpg)"
   ]
  },
  {
   "cell_type": "markdown",
   "metadata": {},
   "source": [
    "I'm Rob DiPietro, a PhD student in the [Department of Computer Science at Johns Hopkins](https://www.cs.jhu.edu/), where I'm advised by [Gregory D. Hager](http://www.cs.jhu.edu/~hager/). I'm part of the [Computational Interaction and Robotics Laboratory](http://cirl.lcsr.jhu.edu/) and the [Malone Center for Engineering in Healthcare](http://malonecenter.jhu.edu/). Previously I was an associate research-staff member at [MIT Lincoln Laboratory](http://www.ll.mit.edu/) and a BS/MS student at [Northeastern University](http://www.northeastern.edu/), where I studied applied physics and electrical engineering."
   ]
  },
  {
   "cell_type": "markdown",
   "metadata": {},
   "source": [
    "## Contents\n",
    "\n",
    "- [Recent News](#recent-news)\n",
    "- [Research](#research)\n",
    "- [Code](#code)\n",
    "- [Tutorials](#tutorials)\n",
    "- [Teaching](#teaching)\n",
    "- [Curriculum Vitae / Publications](#curriculum-vitae-publications)\n",
    "- [Some Fun](#some-fun)"
   ]
  },
  {
   "cell_type": "markdown",
   "metadata": {},
   "source": [
    "<a id=\"recent-news\"></a>\n",
    "## Recent News\n",
    "\n",
    "#### June, 2016\n",
    "\n",
    "Our paper on surgical activity recognition has been accepted as an oral presentation at MICCAI 2016:\n",
    "\n",
    "R. DiPietro, C. Lea, A. Malpani, N. Ahmidi, S. Vedula, G.I. Lee, M.R. Lee, G.D. Hager: Recognizing Surgical Activities with Recurrent Neural Networks. Medical Image Computing and Computer Assisted Intervention (2016).\n",
    "\n",
    "http://arxiv.org/abs/1606.06329\n",
    "\n",
    "https://github.com/rdipietro/miccai-2016-surgical-activity-rec"
   ]
  },
  {
   "cell_type": "markdown",
   "metadata": {},
   "source": [
    "<a id=\"research\"></a>\n",
    "## Research\n",
    "\n",
    "My research focuses on machine-learning methods for modeling sequential data, and I'm especially interested in recurrent neural networks. Is it possible to improve over LSTM and GRUs when it comes to capturing long-term dependencies? If so, can these approaches be carried over to very deep feed-forward networks? Is it possible to reduce RNN training times in a way that's principled?"
   ]
  },
  {
   "cell_type": "markdown",
   "metadata": {},
   "source": [
    "<a id=\"code\"></a>\n",
    "## Code\n",
    "\n",
    "Some of my projects are available [here](https://github.com/rdipietro), along with a small set of Jupyter notebooks.\n",
    "\n",
    "I like C. I love Python. For deep learning my tool of choice is TensorFlow, which I've contributed code, docs, and tests to."
   ]
  },
  {
   "cell_type": "markdown",
   "metadata": {},
   "source": [
    "<a id=\"tutorials\"></a>\n",
    "## Tutorials\n",
    "\n",
    "- [A Friendly Introduction to Cross-Entropy Loss](http://rdipietro.github.io/friendly-intro-to-cross-entropy-loss). Introduces entropy, cross entropy, KL divergence, and discusses connections to likelihood.\n",
    "- [TensorFlow Scan Examples](http://rdipietro.github.io/tensorflow-scan-examples). Includes building, training, and evaluating a recurrent neural network from scratch."
   ]
  },
  {
   "cell_type": "markdown",
   "metadata": {},
   "source": [
    "<a id=\"teaching\"></a>\n",
    "## Teaching\n",
    "\n",
    "### Johns Hopkins University\n",
    "\n",
    "- **Instructor for EN.500.111, HEART: Machine Learning for Surgical Workflow Analysis.** In this course, students are exposed to basic machine-learning concepts and to some applications to surgical workflow analysis. Fall, 2015.\n",
    "- **Teaching Assistant for EN.600.676, Machine Learning: Data to Models.** In this course, students learn about probabilistic graphical models. They are exposed to the junction-tree algorithm, variational inference, Markov chain Monte carlo, etc. Spring, 2015.\n",
    "- **Co-Instructor for EN.600.120, Intermediate Programming.** In this course, students learn how to design programs, how to write code that's efficient but simple, and how to debug code when it's not working (C and C++). For more information, see Prof. Yair Amir's [course page](http://www.cnds.jhu.edu/courses/cs120/). Spring, 2014.\n",
    "- **Instructor for EN.600.101, MATLAB for Data Analytics.** In this course, students with no prior programming experience learn to analyze and visualize data using MATLAB. Intersession, 2014."
   ]
  },
  {
   "cell_type": "markdown",
   "metadata": {},
   "source": [
    "<a id=\"curriculum-vitae-publications\"></a>\n",
    "## Curriculum Vitae / Publications\n",
    "\n",
    "My CV is [here](dipietro_cv.pdf) and my publications are [here](https://scholar.google.com/citations?user=hgSJHaUAAAAJ)."
   ]
  },
  {
   "cell_type": "markdown",
   "metadata": {},
   "source": [
    "<a id=\"some-fun\"></a>\n",
    "## Some Fun\n",
    "\n",
    "#### Paragliding in Switzerland (2014)\n",
    "\n",
    "![Paragliding](images/paragliding.jpg)\n",
    "\n",
    "#### Skydiving in Switzerland (2010)\n",
    "\n",
    "![Skydiving](images/skydiving.jpg)\n",
    "\n",
    "#### View from the Zugspitze (2016)\n",
    "\n",
    "![Zugspitze](images/zugspitze.jpg)"
   ]
  }
 ],
 "metadata": {
  "kernelspec": {
   "display_name": "Python 3",
   "language": "python",
   "name": "python3"
  },
  "language_info": {
   "codemirror_mode": {
    "name": "ipython",
    "version": 3
   },
   "file_extension": ".py",
   "mimetype": "text/x-python",
   "name": "python",
   "nbconvert_exporter": "python",
   "pygments_lexer": "ipython3",
   "version": "3.5.2"
  }
 },
 "nbformat": 4,
 "nbformat_minor": 0
}
