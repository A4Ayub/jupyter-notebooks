{
 "cells": [
  {
   "cell_type": "markdown",
   "metadata": {},
   "source": [
    "![Rob](images/rob.jpg)"
   ]
  },
  {
   "cell_type": "markdown",
   "metadata": {},
   "source": [
    "## Contents\n",
    "\n",
    "- [About Me](#about-me)\n",
    "- [Recent News](#recent-news)\n",
    "- [Research](#research)\n",
    "- [Teaching](#teaching)\n",
    "- [Tutorials](#tutorials)\n",
    "- [Curriculum Vitae / Publications](#curriculum-vitae-publications)\n",
    "- [Some Fun](#some-fun)"
   ]
  },
  {
   "cell_type": "markdown",
   "metadata": {},
   "source": [
    "<a id=\"about-me\"></a>\n",
    "## About Me\n",
    "\n",
    "I'm Rob DiPietro, a PhD student in the [Department of Computer Science at Johns Hopkins](https://www.cs.jhu.edu/), where I'm advised by [Gregory D. Hager](http://www.cs.jhu.edu/~hager/). I'm part of the [Computational Interaction and Robotics Laboratory](http://cirl.lcsr.jhu.edu/) and the [Malone Center for Engineering in Healthcare](http://malonecenter.jhu.edu/). Previously, I was an associate research-staff member at [MIT Lincoln Laboratory](http://www.ll.mit.edu/) and a BS/MS student at [Northeastern University](http://www.northeastern.edu/)."
   ]
  },
  {
   "cell_type": "markdown",
   "metadata": {},
   "source": [
    "<a id=\"recent-news\"></a>\n",
    "## Recent News\n",
    "\n",
    "#### June, 2016\n",
    "\n",
    "Paper on surgical activity recognition conditionally accepted and tentatively selected for an oral presentation at MICCAI 2016:\n",
    "\n",
    "R. DiPietro, C. Lea, A. Malpani, N. Ahmidi, S. Vedula, G.I. Lee, M.R. Lee, G.D. Hager: Recognizing Surgical Activities with Recurrent Neural Networks. Medical Image Computing and Computer Assisted Intervention (2016).\n",
    "\n",
    "http://arxiv.org/abs/1606.06329\n",
    "\n",
    "https://github.com/rdipietro/miccai-2016-surgical-activity-rec\n",
    "\n",
    "#### May, 2016\n",
    "\n",
    "Received this year's Excellence in Teaching Award from the Department of Computer Science at Johns Hopkins."
   ]
  },
  {
   "cell_type": "markdown",
   "metadata": {},
   "source": [
    "<a id=\"research\"></a>\n",
    "## Research\n",
    "\n",
    "My research focuses on machine-learning methods for modeling sequential data, especially recurrent neural networks. From an applications perspective, I focus on healthcare. For example, [operative skill is connected to postoperative complications](http://www.nejm.org/doi/full/10.1056/NEJMsa1300625), and [current training practices need to improve](http://www.ncbi.nlm.nih.gov/pubmed/19789010). Is it possible to automatically assess performance and automatically provide frequent, objective feedback during training?"
   ]
  },
  {
   "cell_type": "markdown",
   "metadata": {},
   "source": [
    "<a id=\"teaching\"></a>\n",
    "## Teaching\n",
    "\n",
    "### Johns Hopkins University\n",
    "\n",
    "- **Instructor for EN.500.111, HEART: Machine Learning for Surgical Workflow Analysis.** In this course, students are exposed to basic machine-learning concepts and to some applications to surgical workflow analysis. Fall, 2015.\n",
    "- **Teaching Assistant for EN.600.676, Machine Learning: Data to Models.** In this course, students learn about probabilistic graphical models. They are exposed to the junction-tree algorithm, variational inference, Markov chain Monte carlo, etc. Spring, 2015.\n",
    "- **Co-Instructor for EN.600.120, Intermediate Programming.** In this course, students learn how to design programs, how to write code that's efficient but simple, and how to debug code when it's not working (C and C++). For more information, see Prof. Yair Amir's [course page](http://www.cnds.jhu.edu/courses/cs120/). Spring, 2014.\n",
    "- **Instructor for EN.600.101, MATLAB for Data Analytics.** In this course, students with no prior programming experience learn to analyze and visualize data using MATLAB. Intersession, 2014."
   ]
  },
  {
   "cell_type": "markdown",
   "metadata": {},
   "source": [
    "<a id=\"tutorials\"></a>\n",
    "## Tutorials\n",
    "\n",
    "- You Already Understand Recurrent Neural Networks. Main point: if you already understand feed-forward networks, then you already understand recurrent networks. Coming soon.\n",
    "- A Friendly Introduction to Feed-Forward Neural Networks. An introduction to feed-forward networks with emphasis on computation graphs. Coming soon.\n",
    "- [A Friendly Introduction to Cross-Entropy Loss](http://rdipietro.github.io/friendly-intro-to-cross-entropy-loss). Introduces entropy, cross entropy, KL divergence, and discusses connections to likelihood.\n",
    "- [TensorFlow Scan Examples](http://rdipietro.github.io/tensorflow-scan-examples). Includes building, training, and evaluating a recurrent neural network from scratch."
   ]
  },
  {
   "cell_type": "markdown",
   "metadata": {},
   "source": [
    "<a id=\"curriculum-vitae-publications\"></a>\n",
    "## Curriculum Vitae / Publications\n",
    "\n",
    "My CV is [here](dipietro_cv.pdf) and my publications are [here](https://scholar.google.com/citations?user=hgSJHaUAAAAJ)."
   ]
  },
  {
   "cell_type": "markdown",
   "metadata": {},
   "source": [
    "<a id=\"some-fun\"></a>\n",
    "## Some Fun\n",
    "\n",
    "#### Skydiving in Switzerland (2010)\n",
    "\n",
    "![Skydiving](images/skydiving.jpg)\n",
    "\n",
    "#### Paragliding in Switzerland (2014)\n",
    "\n",
    "![Paragliding](images/paragliding.jpg)\n",
    "\n",
    "#### View from the Zugspitze (2016)\n",
    "\n",
    "![Zugspitze](images/zugspitze.jpg)"
   ]
  }
 ],
 "metadata": {
  "kernelspec": {
   "display_name": "Python 2",
   "language": "python",
   "name": "python2"
  },
  "language_info": {
   "codemirror_mode": {
    "name": "ipython",
    "version": 2
   },
   "file_extension": ".py",
   "mimetype": "text/x-python",
   "name": "python",
   "nbconvert_exporter": "python",
   "pygments_lexer": "ipython2",
   "version": "2.7.6"
  }
 },
 "nbformat": 4,
 "nbformat_minor": 0
}
