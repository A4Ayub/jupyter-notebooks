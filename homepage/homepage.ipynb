{
 "cells": [
  {
   "cell_type": "markdown",
   "metadata": {},
   "source": [
    "![Rob](images/rob.jpg)"
   ]
  },
  {
   "cell_type": "markdown",
   "metadata": {},
   "source": [
    "## Contents\n",
    "\n",
    "- [About Me](#about-me)\n",
    "- [Research](#research)\n",
    "- [Tutorials](#tutorials)\n",
    "- [Teaching](#teaching)\n",
    "- [Curriculum Vitae / Publications](#curriculum-vitae-publications)\n",
    "- [Some Fun](#some-fun)"
   ]
  },
  {
   "cell_type": "markdown",
   "metadata": {},
   "source": [
    "<a id=\"about-me\"></a>\n",
    "## About Me\n",
    "\n",
    "I'm Rob DiPietro, a PhD student in the [Department of Computer Science at Johns Hopkins](https://www.cs.jhu.edu/), where I'm advised by [Gregory D. Hager](http://www.cs.jhu.edu/~hager/) and [Nassir Navab](https://www.cs.jhu.edu/faculty/nassir-navab/). My research focuses on machine-learning methods for modeling sequential data and on applications of those methods to health care. I also have fun teaching and trying to break concepts up into clear and concise pieces.\n",
    "\n",
    "I was previously an associate research-staff member at [MIT Lincoln Laboratory](http://www.ll.mit.edu/) and a student at [Northeastern University](http://www.northeastern.edu/). My research at MIT LL and as an electrical-engineering masters student focused on detecting chemicals and materials in hyperspectral imagery. My research as a physics undergraduate student focused on characterizing collections of magnetic nanoparticles."
   ]
  },
  {
   "cell_type": "markdown",
   "metadata": {},
   "source": [
    "<a id=\"research\"></a>\n",
    "## Research\n",
    "\n",
    "My research is centered around machine-learning methods for modeling sequential data, and I'm especially interested in recurrent neural networks and attention-based approaches. From an applications perspective, I focus on health care. For example, [operative skill is connected to postoperative complications](http://www.nejm.org/doi/full/10.1056/NEJMsa1300625), and [current training practices need to improve](http://www.ncbi.nlm.nih.gov/pubmed/19789010). Is it possible to automatically analyze trainee performance and automatically provide frequent, object feedback?"
   ]
  },
  {
   "cell_type": "markdown",
   "metadata": {},
   "source": [
    "<a id=\"tutorials\"></a>\n",
    "## Tutorials\n",
    "\n",
    "- [Using TensorFlow's scan function to build a recurrent neural network from scratch](http://rdipietro.github.io/tensorflow-scan-examples)"
   ]
  },
  {
   "cell_type": "markdown",
   "metadata": {},
   "source": [
    "<a id=\"teaching\"></a>\n",
    "## Teaching\n",
    "\n",
    "- **Spring, 2016. Johns Hopkins University.** Received the Excellence in Teaching Award from the Department of Computer Science.\n",
    "- **Fall, 2015. Johns Hopkins University. Instructor, Machine Learning for Surgical Workflow Analysis.** In this course, students are exposed to basic machine-learning concepts and to some applications to surgical workflow analysis. About half of the course is taught thinking through problems using IPython notebooks.\n",
    "- **Spring, 2015. Johns Hopkins University. Teaching Assistant, Machine Learning: Data to Models.** In this course, students learn about probabilistic graphical models and various exact inference and approximate inference techniques.\n",
    "- **Spring, 2014. Johns Hopkins University. Co-Instructor, Intermediate Programming.** In this course, students learn how to design programs, how to write code that's efficient but simple, and how to debug code when it's not working (C and C++). For more information, see Prof. Yair Amir's [course page](http://www.cnds.jhu.edu/courses/cs120/).\n",
    "- **Intersession, 2014. Johns Hopkins University. Instructor, MATLAB for Data Analytics.** In this course, students with no prior programming experience learn to analyze and visualize data using MATLAB."
   ]
  },
  {
   "cell_type": "markdown",
   "metadata": {},
   "source": [
    "<a id=\"curriculum-vitae-publications\"></a>\n",
    "## Curriculum Vitae / Publications\n",
    "\n",
    "My CV is [here](dipietro_cv.pdf) and my publications are [here](https://scholar.google.com/citations?user=hgSJHaUAAAAJ)."
   ]
  },
  {
   "cell_type": "markdown",
   "metadata": {},
   "source": [
    "<a id=\"some-fun\"></a>\n",
    "## Some Fun\n",
    "\n",
    "#### Skydiving in Switzerland (2010)\n",
    "\n",
    "![Skydiving](images/skydiving.jpg)\n",
    "\n",
    "#### Paragliding in Switzerland (2014)\n",
    "\n",
    "![Paragliding](images/paragliding.jpg)\n",
    "\n",
    "#### View from the Zugspitze (2016)\n",
    "\n",
    "![Zugspitze](images/zugspitze.jpg)"
   ]
  }
 ],
 "metadata": {
  "kernelspec": {
   "display_name": "Python 2",
   "language": "python",
   "name": "python2"
  },
  "language_info": {
   "codemirror_mode": {
    "name": "ipython",
    "version": 2
   },
   "file_extension": ".py",
   "mimetype": "text/x-python",
   "name": "python",
   "nbconvert_exporter": "python",
   "pygments_lexer": "ipython2",
   "version": "2.7.6"
  }
 },
 "nbformat": 4,
 "nbformat_minor": 0
}
